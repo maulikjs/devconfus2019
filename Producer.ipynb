{
 "cells": [
  {
   "cell_type": "code",
   "execution_count": 1,
   "metadata": {},
   "outputs": [
    {
     "name": "stdout",
     "output_type": "stream",
     "text": [
      "Requirement already satisfied: kafka-python in /opt/app-root/lib/python3.6/site-packages (1.4.6)\n",
      "\u001b[33mYou are using pip version 19.0.3, however version 19.2.2 is available.\n",
      "You should consider upgrading via the 'pip install --upgrade pip' command.\u001b[0m\n",
      "Requirement already satisfied: numpy==1.15 in /opt/app-root/lib/python3.6/site-packages (1.15.0)\n",
      "Requirement already satisfied: scikit-learn==0.19.2 in /opt/app-root/lib/python3.6/site-packages (0.19.2)\n",
      "Requirement already satisfied: scipy==1.0.1 in /opt/app-root/lib/python3.6/site-packages (1.0.1)\n",
      "Requirement already satisfied: pandas==0.19.2 in /opt/app-root/lib/python3.6/site-packages (0.19.2)\n",
      "Requirement already satisfied: python-dateutil>=2 in /opt/app-root/lib/python3.6/site-packages (from pandas==0.19.2) (2.8.0)\n",
      "Requirement already satisfied: pytz>=2011k in /opt/app-root/lib/python3.6/site-packages (from pandas==0.19.2) (2019.2)\n",
      "Requirement already satisfied: six>=1.5 in /opt/app-root/lib/python3.6/site-packages (from python-dateutil>=2->pandas==0.19.2) (1.12.0)\n",
      "\u001b[33mYou are using pip version 19.0.3, however version 19.2.2 is available.\n",
      "You should consider upgrading via the 'pip install --upgrade pip' command.\u001b[0m\n"
     ]
    }
   ],
   "source": [
    "! pip install kafka-python\n",
    "! pip install numpy==1.15 scikit-learn==0.19.2 scipy==1.0.1 pandas==0.19.2"
   ]
  },
  {
   "cell_type": "code",
   "execution_count": 2,
   "metadata": {},
   "outputs": [
    {
     "name": "stderr",
     "output_type": "stream",
     "text": [
      "/opt/app-root/lib64/python3.6/importlib/_bootstrap.py:219: RuntimeWarning: numpy.dtype size changed, may indicate binary incompatibility. Expected 96, got 88\n",
      "  return f(*args, **kwds)\n"
     ]
    }
   ],
   "source": [
    "import numpy as np\n",
    "import pandas as pd"
   ]
  },
  {
   "cell_type": "code",
   "execution_count": 3,
   "metadata": {},
   "outputs": [],
   "source": [
    "df = pd.read_csv('creditcard.csv')\n",
    "df_z = df.loc[df['Class']==0]\n",
    "df_o = df.loc[df['Class']==1]\n",
    "\n",
    "df_zero = df_z.drop(['Time', 'Class'], axis=1)\n",
    "df_one = df_o.drop(['Time', 'Class'], axis=1)"
   ]
  },
  {
   "cell_type": "code",
   "execution_count": null,
   "metadata": {},
   "outputs": [],
   "source": []
  },
  {
   "cell_type": "code",
   "execution_count": 5,
   "metadata": {},
   "outputs": [],
   "source": [
    "from kafka import KafkaProducer\n",
    "producer=KafkaProducer(bootstrap_servers='odh-message-bus-kafka-bootstrap.devconf.svc.cluster.local:9092')\n",
    "# producer.send(\"test-topic\",json.dumps(\"1\").encode('utf-8'))\n",
    "# producer.flush()\n",
    "\n",
    "def sendMessage(payload,topic,producer):\n",
    "    producer.send(topic, payload)\n",
    "    producer.flush()"
   ]
  },
  {
   "cell_type": "code",
   "execution_count": null,
   "metadata": {},
   "outputs": [
    {
     "name": "stdout",
     "output_type": "stream",
     "text": [
      "284315\n",
      "492\n"
     ]
    }
   ],
   "source": [
    "import time\n",
    "import random\n",
    "import json\n",
    "topic = \"modeltest\"\n",
    "one_pointer=0\n",
    "zero_pointer=0\n",
    "class_zero=df_zero.values.tolist()\n",
    "class_one=df_one.values.tolist()\n",
    "print(len(df_zero.values))\n",
    "print(len(df_one.values))\n",
    "\n",
    "while True:\n",
    "    prob = random.randint(1,6)\n",
    "    if prob == 5:\n",
    "        if one_pointer < len(df_one.values):\n",
    "            sendMessage(json.dumps(class_one[one_pointer]).encode('utf-8'),topic,producer)\n",
    "            one_pointer = one_pointer + 1\n",
    "        else:\n",
    "            one_pointer = 0\n",
    "            sendMessage(json.dumps(class_one[one_pointer]).encode('utf-8'),topic,producer)\n",
    "    else:\n",
    "        if zero_pointer < len(df_zero.values):\n",
    "            sendMessage(json.dumps(class_zero[zero_pointer]).encode('utf-8'),topic,producer)\n",
    "            zero_pointer = zero_pointer + 1\n",
    "        else:\n",
    "            one_pointer = 0\n",
    "            sendMessage(json.dumps(class_zero[zero_pointer]).encode('utf-8'),topic,producer)\n",
    "\n",
    "    time.sleep(random.randint(2,6))\n"
   ]
  },
  {
   "cell_type": "code",
   "execution_count": null,
   "metadata": {},
   "outputs": [],
   "source": []
  }
 ],
 "metadata": {
  "kernelspec": {
   "display_name": "Python 3",
   "language": "python",
   "name": "python3"
  },
  "language_info": {
   "codemirror_mode": {
    "name": "ipython",
    "version": 3
   },
   "file_extension": ".py",
   "mimetype": "text/x-python",
   "name": "python",
   "nbconvert_exporter": "python",
   "pygments_lexer": "ipython3",
   "version": "3.6.3"
  }
 },
 "nbformat": 4,
 "nbformat_minor": 2
}
